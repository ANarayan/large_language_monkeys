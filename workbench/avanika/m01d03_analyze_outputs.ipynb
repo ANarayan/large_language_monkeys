{
 "cells": [
  {
   "cell_type": "code",
   "execution_count": 1,
   "metadata": {},
   "outputs": [],
   "source": [
    "import json"
   ]
  },
  {
   "cell_type": "code",
   "execution_count": 2,
   "metadata": {},
   "outputs": [
    {
     "data": {
      "application/vnd.jupyter.widget-view+json": {
       "model_id": "363558f5919f416badabcb7cc0b58201",
       "version_major": 2,
       "version_minor": 0
      },
      "text/plain": [
       "Downloading readme:   0%|          | 0.00/10.6k [00:00<?, ?B/s]"
      ]
     },
     "metadata": {},
     "output_type": "display_data"
    },
    {
     "data": {
      "application/vnd.jupyter.widget-view+json": {
       "model_id": "d052a1ce6e8a496e96045458060d60ea",
       "version_major": 2,
       "version_minor": 0
      },
      "text/plain": [
       "Resolving data files:   0%|          | 0/24 [00:00<?, ?it/s]"
      ]
     },
     "metadata": {},
     "output_type": "display_data"
    },
    {
     "data": {
      "application/vnd.jupyter.widget-view+json": {
       "model_id": "3da3317627014b3ab36abcf277271f27",
       "version_major": 2,
       "version_minor": 0
      },
      "text/plain": [
       "Resolving data files:   0%|          | 0/24 [00:00<?, ?it/s]"
      ]
     },
     "metadata": {},
     "output_type": "display_data"
    },
    {
     "data": {
      "application/vnd.jupyter.widget-view+json": {
       "model_id": "93837608635745e29f9c70620ce1119a",
       "version_major": 2,
       "version_minor": 0
      },
      "text/plain": [
       "Loading dataset shards:   0%|          | 0/18 [00:00<?, ?it/s]"
      ]
     },
     "metadata": {},
     "output_type": "display_data"
    }
   ],
   "source": [
    "from datasets import load_dataset \n",
    "\n",
    "dataset = load_dataset(\"deepmind/narrativeqa\")"
   ]
  },
  {
   "cell_type": "code",
   "execution_count": 6,
   "metadata": {},
   "outputs": [],
   "source": [
    "path = \"/home/anarayan/large_language_monkeys/outputs_masked/gsm8k_samples\""
   ]
  },
  {
   "cell_type": "code",
   "execution_count": 7,
   "metadata": {},
   "outputs": [],
   "source": [
    "# list all files in path\n",
    "import os\n",
    "filtered_files = os.listdir(path)"
   ]
  },
  {
   "cell_type": "code",
   "execution_count": 9,
   "metadata": {},
   "outputs": [
    {
     "data": {
      "text/plain": [
       "128"
      ]
     },
     "execution_count": 9,
     "metadata": {},
     "output_type": "execute_result"
    }
   ],
   "source": [
    "len(filtered_files)"
   ]
  },
  {
   "cell_type": "code",
   "execution_count": 45,
   "metadata": {},
   "outputs": [],
   "source": [
    "path = \"/home/anarayan/large_language_monkeys/outputs/gsmk8_eval\"\n",
    "path_masked = \"/home/anarayan/large_language_monkeys/outputs_masked/gsmk8_eval\"\n",
    "path_olmo = \"/home/anarayan/large_language_monkeys/outputs_olmo/gsmk8_eval\""
   ]
  },
  {
   "cell_type": "code",
   "execution_count": null,
   "metadata": {},
   "outputs": [],
   "source": [
    "# pandas read yaml file\n",
    "import pandas as pd\n",
    "import yaml\n",
    "\n",
    "# Load the YAML file\n",
    "with open('data.yaml', 'r') as file:\n",
    "    data = yaml.safe_load(file)\n",
    "\n",
    "# Convert to a DataFrame\n",
    "df = pd.DataFrame(data)"
   ]
  },
  {
   "cell_type": "code",
   "execution_count": 36,
   "metadata": {},
   "outputs": [],
   "source": [
    "# for ever file in the path that is in the filtered_files list read in the file and concatenate into a single dataframe\n",
    "import pandas as pd\n",
    "import yaml\n",
    "\n",
    "num_samples = [4, 8, 16, 32, 64, 128, 256, 512]\n",
    "sample_to_correct = {}\n",
    "for ns in num_samples:\n",
    "    sample_to_correct[ns] = []\n",
    "    for file in filtered_files:\n",
    "        correct = False\n",
    "        with open(path + \"/\" + file, 'r') as file:\n",
    "            data = yaml.safe_load(file)\n",
    "            df = pd.DataFrame(data)\n",
    "            #print(df)\n",
    "            is_corrects = df['is_corrects'].tolist()\n",
    "            #print(is_corrects)\n",
    "            # check if there is a correct answer in the list\n",
    "            if True in is_corrects[0:ns]:\n",
    "                correct = True\n",
    "        if correct:\n",
    "            sample_to_correct[ns].append(1)\n",
    "        else:\n",
    "            sample_to_correct[ns].append(0)\n",
    "        \n"
   ]
  },
  {
   "cell_type": "code",
   "execution_count": 37,
   "metadata": {},
   "outputs": [
    {
     "name": "stdout",
     "output_type": "stream",
     "text": [
      "Accuracy for 4 samples is: 0.1640625\n",
      "Accuracy for 8 samples is: 0.21875\n",
      "Accuracy for 16 samples is: 0.359375\n",
      "Accuracy for 32 samples is: 0.5234375\n",
      "Accuracy for 64 samples is: 0.6875\n",
      "Accuracy for 128 samples is: 0.7578125\n",
      "Accuracy for 256 samples is: 0.8203125\n",
      "Accuracy for 512 samples is: 0.859375\n"
     ]
    }
   ],
   "source": [
    "for ns in [4, 8, 16, 32, 64, 128, 256, 512]:\n",
    "    # calculate the accuracy\n",
    "    print(\"Accuracy for {} samples is: {}\".format(ns, sum(sample_to_correct[ns])/len(sample_to_correct[ns])))"
   ]
  },
  {
   "cell_type": "code",
   "execution_count": 40,
   "metadata": {},
   "outputs": [],
   "source": [
    "# for ever file in the path that is in the filtered_files list read in the file and concatenate into a single dataframe\n",
    "import pandas as pd\n",
    "import yaml\n",
    "\n",
    "num_samples = [4, 8, 16, 32, 64, 128, 256, 512]\n",
    "sample_to_correct_masked = {}\n",
    "for ns in num_samples:\n",
    "    sample_to_correct_masked[ns] = []\n",
    "    for file in filtered_files:\n",
    "        correct = False\n",
    "        with open(path_masked + \"/\" + file, 'r') as file:\n",
    "            data = yaml.safe_load(file)\n",
    "            df = pd.DataFrame(data)\n",
    "            #print(df)\n",
    "            is_corrects = df['is_corrects'].tolist()\n",
    "            #print(is_corrects)\n",
    "            # check if there is a correct answer in the list\n",
    "            if True in is_corrects[0:ns]:\n",
    "                correct = True\n",
    "        if correct:\n",
    "            sample_to_correct_masked[ns].append(1)\n",
    "        else:\n",
    "            sample_to_correct_masked[ns].append(0)\n",
    "        \n"
   ]
  },
  {
   "cell_type": "code",
   "execution_count": 41,
   "metadata": {},
   "outputs": [
    {
     "name": "stdout",
     "output_type": "stream",
     "text": [
      "Accuracy for 4 samples is: 0.2109375\n",
      "Accuracy for 8 samples is: 0.296875\n",
      "Accuracy for 16 samples is: 0.4296875\n",
      "Accuracy for 32 samples is: 0.515625\n",
      "Accuracy for 64 samples is: 0.6328125\n",
      "Accuracy for 128 samples is: 0.71875\n",
      "Accuracy for 256 samples is: 0.7890625\n",
      "Accuracy for 512 samples is: 0.7890625\n"
     ]
    }
   ],
   "source": [
    "for ns in [4, 8, 16, 32, 64, 128, 256, 512]:\n",
    "    # calculate the accuracy\n",
    "    print(\"Accuracy for {} samples is: {}\".format(ns, sum(sample_to_correct_masked[ns])/len(sample_to_correct_masked[ns])))"
   ]
  },
  {
   "cell_type": "code",
   "execution_count": 47,
   "metadata": {},
   "outputs": [],
   "source": [
    "# for ever file in the path that is in the filtered_files list read in the file and concatenate into a single dataframe\n",
    "import pandas as pd\n",
    "import yaml\n",
    "\n",
    "num_samples = [4, 8, 16, 32, 64, 128, 256, 512]\n",
    "sample_to_correct_olmo = {}\n",
    "for ns in num_samples:\n",
    "    sample_to_correct_olmo[ns] = []\n",
    "    for file in filtered_files:\n",
    "        correct = False\n",
    "        with open(path_olmo + \"/\" + file, 'r') as file:\n",
    "            data = yaml.safe_load(file)\n",
    "            df = pd.DataFrame(data)\n",
    "            #print(df)\n",
    "            is_corrects = df['is_corrects'].tolist()\n",
    "            #print(is_corrects)\n",
    "            # check if there is a correct answer in the list\n",
    "            if True in is_corrects[0:ns]:\n",
    "                correct = True\n",
    "        if correct:\n",
    "            sample_to_correct_olmo[ns].append(1)\n",
    "        else:\n",
    "            sample_to_correct_olmo[ns].append(0)\n",
    "        \n"
   ]
  },
  {
   "cell_type": "code",
   "execution_count": 48,
   "metadata": {},
   "outputs": [
    {
     "name": "stdout",
     "output_type": "stream",
     "text": [
      "Accuracy for 4 samples is: 0.8515625\n",
      "Accuracy for 8 samples is: 0.921875\n",
      "Accuracy for 16 samples is: 0.953125\n",
      "Accuracy for 32 samples is: 0.9765625\n",
      "Accuracy for 64 samples is: 0.9921875\n",
      "Accuracy for 128 samples is: 0.9921875\n",
      "Accuracy for 256 samples is: 0.9921875\n",
      "Accuracy for 512 samples is: 0.9921875\n"
     ]
    }
   ],
   "source": [
    "for ns in [4, 8, 16, 32, 64, 128, 256, 512]:\n",
    "    # calculate the accuracy\n",
    "    print(\"Accuracy for {} samples is: {}\".format(ns, sum(sample_to_correct_olmo[ns])/len(sample_to_correct_olmo[ns])))"
   ]
  },
  {
   "cell_type": "code",
   "execution_count": 44,
   "metadata": {},
   "outputs": [
    {
     "data": {
      "image/png": "[encoded data removed]",
      "text/plain": [
       "<Figure size 640x480 with 1 Axes>"
      ]
     },
     "metadata": {},
     "output_type": "display_data"
    }
   ],
   "source": [
    "# # OLMOE (base)\n",
    "# Accuracy for 4 samples is: 0.1640625\n",
    "# Accuracy for 8 samples is: 0.21875\n",
    "# Accuracy for 16 samples is: 0.359375\n",
    "# Accuracy for 32 samples is: 0.5234375\n",
    "# Accuracy for 64 samples is: 0.6875\n",
    "# Accuracy for 128 samples is: 0.7578125\n",
    "# Accuracy for 256 samples is: 0.8203125\n",
    "# Accuracy for 512 samples is: 0.859375\n",
    "    \n",
    "# # OLMOE (masked)\n",
    "# Accuracy for 4 samples is: 0.2109375\n",
    "# Accuracy for 8 samples is: 0.296875\n",
    "# Accuracy for 16 samples is: 0.4296875\n",
    "# Accuracy for 32 samples is: 0.515625\n",
    "# Accuracy for 64 samples is: 0.6328125\n",
    "# Accuracy for 128 samples is: 0.71875\n",
    "# Accuracy for 256 samples is: 0.7890625\n",
    "# Accuracy for 512 samples is: 0.7890625\n",
    "\n",
    "# plot these numbers with accuracy on y-axis and number of samples on x-axis\n",
    "import matplotlib.pyplot as plt\n",
    "\n",
    "# plot the accuracy for OLMOE\n",
    "plt.plot([4, 8, 16, 32, 64, 128, 256, 512], [0.1640625, 0.21875, 0.359375, 0.5234375, 0.6875, 0.7578125, 0.8203125, 0.859375], label='OLMOE')\n",
    "plt.plot([4, 8, 16, 32, 64, 128, 256, 512], [0.2109375, 0.296875, 0.4296875, 0.515625, 0.6328125, 0.71875, 0.7890625, 0.7890625], label='OLMOE (masked)')\n",
    "plt.xlabel('Number of samples')\n",
    "plt.ylabel('Accuracy')\n",
    "plt.title('Accuracy vs Number of samples (128 problems -- GSMK8)')\n",
    "plt.legend()\n",
    "plt.show()\n"
   ]
  },
  {
   "cell_type": "code",
   "execution_count": null,
   "metadata": {},
   "outputs": [],
   "source": [
    "# "
   ]
  },
  {
   "cell_type": "code",
   "execution_count": null,
   "metadata": {},
   "outputs": [],
   "source": []
  },
  {
   "cell_type": "code",
   "execution_count": null,
   "metadata": {},
   "outputs": [],
   "source": []
  }
 ],
 "metadata": {
  "kernelspec": {
   "display_name": "haystacks",
   "language": "python",
   "name": "python3"
  },
  "language_info": {
   "codemirror_mode": {
    "name": "ipython",
    "version": 3
   },
   "file_extension": ".py",
   "mimetype": "text/x-python",
   "name": "python",
   "nbconvert_exporter": "python",
   "pygments_lexer": "ipython3",
   "version": "3.9.19"
  }
 },
 "nbformat": 4,
 "nbformat_minor": 2
}
